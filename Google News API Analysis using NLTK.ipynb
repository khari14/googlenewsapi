{
 "cells": [
  {
   "cell_type": "code",
   "execution_count": null,
   "metadata": {},
   "outputs": [],
   "source": [
    "import requests\n",
    "import json\n",
    "import pandas as pd\n",
    "from pandas.io.json import json_normalize\n",
    "\n",
    "import pandas as pd\n",
    "product_list=['Savings accounts','Debit cards','Credit cards','Insurance','Wealth management','Business loans',\n",
    "      'Merchant services','Cash management','Online Banking','Banking alerts','eStatements','Online bill pay',\n",
    "     'Personal loans','Home equity loans','Home loans']\n",
    "\n",
    "def getnews_listofdf(list):\n",
    "    list_df=[]\n",
    "    for type in list:\n",
    "        url = ('https://newsapi.org/v2/everything?''q=%s&'\n",
    "       'from=2018-12-30&'\n",
    "       'sortBy=popularity&'\n",
    "       'apiKey=0262ccaa3cdd4539993d7cf88029ef3f'% type)\n",
    "        response_json = requests.get(url).json()\n",
    "        response_json = pd.DataFrame.from_dict(response_json,\n",
    "                                               orient='columns')\n",
    "        data = pd.concat([response_json.drop(['articles'], axis=1), \n",
    "                          response_json['articles'].apply(pd.Series)], \n",
    "                         axis=1)\n",
    "        list_df.append(data)\n",
    "    return list_df\n",
    "    return list_df[0]\n",
    "getnews_listofdf(product_list)"
   ]
  }
 ],
 "metadata": {
  "kernelspec": {
   "display_name": "Python 3",
   "language": "python",
   "name": "python3"
  },
  "language_info": {
   "codemirror_mode": {
    "name": "ipython",
    "version": 3
   },
   "file_extension": ".py",
   "mimetype": "text/x-python",
   "name": "python",
   "nbconvert_exporter": "python",
   "pygments_lexer": "ipython3",
   "version": "3.6.5"
  }
 },
 "nbformat": 4,
 "nbformat_minor": 2
}
